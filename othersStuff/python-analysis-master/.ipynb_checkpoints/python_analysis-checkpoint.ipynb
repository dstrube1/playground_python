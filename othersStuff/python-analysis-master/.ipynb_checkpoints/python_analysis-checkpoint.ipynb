{
 "cells": [
  {
   "cell_type": "markdown",
   "metadata": {},
   "source": [
    "# Statistical Analysis in Python\n",
    "\n",
    "This workshop is an introduction to Statistical Analysis in Python\n",
    "\n",
    "It is NOT an introduction to Python workshop, I assume a working knowlege of the language\n",
    "\n",
    "It is NOT an introduction to statisics workshop\n",
    "\n",
    "Rather, this workshop is designed to show you the tools and basic process to get started on your own. It covers:\n",
    "\n",
    "* Using Pandas to load in and manipulate data\n",
    "* Using numpy for the many tools it has to work with our data\n",
    "* Visualizing data with Seaborn\n",
    "\n",
    "This will be done by following a basic proccess to analyze data, but why do we do this process?"
   ]
  },
  {
   "cell_type": "code",
   "execution_count": 1,
   "metadata": {},
   "outputs": [],
   "source": [
    "# Import the tools we will be using\n",
    "\n",
    "import numpy as np\n",
    "import matplotlib.pyplot as plt\n",
    "import pandas as pd\n",
    "import seaborn as sns\n",
    "from scipy import stats"
   ]
  },
  {
   "cell_type": "markdown",
   "metadata": {},
   "source": [
    "Python is great for scripting, this means we can easily and quickly prepare and manipulate data, but data analysis and modeling require some work, this is where Pandas comes in. It gives python a similar power to a language like R designed for statistics."
   ]
  },
  {
   "cell_type": "markdown",
   "metadata": {},
   "source": [
    "## Understanding the Data"
   ]
  },
  {
   "cell_type": "markdown",
   "metadata": {},
   "source": [
    "### Pandas\n",
    "\n",
    "\"Pandas is an open source, BSD-licensed library providing high-performance, easy-to-use data structures and data analysis tools for the Python programming language.\" - [Pandas Website](pandas.pydata.org)\n",
    "\n",
    "Python doesnt support vectors, matricies, or dataframes out of the box, this is what Pandas is for. Its numpy, but better.\n",
    "\n",
    "##### How do we store and represent data?\n",
    "Generally, the standard is a Comma-Seperated Values file, or CSV. Excel and Google Sheets can import and export them. As the name suggests, each line is a row, and each column is seperated by a comma."
   ]
  },
  {
   "cell_type": "code",
   "execution_count": 2,
   "metadata": {},
   "outputs": [
    {
     "name": "stdout",
     "output_type": "stream",
     "text": [
      "<class 'pandas.core.frame.DataFrame'>\n",
      "     total_bill   tip     sex smoker   day    time  size\n",
      "0         16.99  1.01  Female     No   Sun  Dinner     2\n",
      "1         10.34  1.66    Male     No   Sun  Dinner     3\n",
      "2         21.01  3.50    Male     No   Sun  Dinner     3\n",
      "3         23.68  3.31    Male     No   Sun  Dinner     2\n",
      "4         24.59  3.61  Female     No   Sun  Dinner     4\n",
      "..          ...   ...     ...    ...   ...     ...   ...\n",
      "239       29.03  5.92    Male     No   Sat  Dinner     3\n",
      "240       27.18  2.00  Female    Yes   Sat  Dinner     2\n",
      "241       22.67  2.00    Male    Yes   Sat  Dinner     2\n",
      "242       17.82  1.75    Male     No   Sat  Dinner     2\n",
      "243       18.78  3.00  Female     No  Thur  Dinner     2\n",
      "\n",
      "[244 rows x 7 columns]\n"
     ]
    }
   ],
   "source": [
    "# Load in some data\n",
    "\n",
    "tips_ds = pd.read_csv(\"https://raw.githubusercontent.com/mwaskom/seaborn-data/master/tips.csv\")\n",
    "\n",
    "# This loads in our data as a DataFrame object, labeled columns and rows\n",
    "# A DataFrame is a 2D mutable data structure, so we can view it as a table\n",
    "\n",
    "print(type(tips_ds))\n",
    "print(tips_ds)"
   ]
  },
  {
   "cell_type": "markdown",
   "metadata": {},
   "source": [
    "The data we are using is relatively straight forward, its called \"tips\"\n",
    "lets take a look at what we have. Our first row is just an individual patron to this store. So, each of our colums for each patron is:\n",
    "* `total_bill`: FLOAT The final bill at this store\n",
    "* `tip`: FLOAT the size of the tip that was left\n",
    "* `sex`: STRING the sex of the patron\n",
    "* `smoker`: STRING if the person smoked or not\n",
    "* `day`: STRING the day of the week of the visit\n",
    "* `time`: STRING if the visit was for lunch or dinner\n",
    "* `size`: INT the size of the group that came in\n",
    "\n",
    "A long list of numbers and strings is pretty meaningless to us, so lets see what we info we can gleam from plotting our data."
   ]
  },
  {
   "cell_type": "code",
   "execution_count": null,
   "metadata": {},
   "outputs": [],
   "source": [
    "print(tips_ds.size)\n",
    "print(tips_ds.shape)\n",
    "print(tips_ds.index)\n",
    "print(tips_ds.columns)\n",
    "print(tips_ds.dtypes)\n",
    "print(tips_ds.empty)"
   ]
  },
  {
   "cell_type": "markdown",
   "metadata": {},
   "source": [
    "### Seaborn\n",
    "\n",
    "\"Seaborn is a Python data visualization library based on matplotlib. It provides a high-level interface for drawing attractive and informative statistical graphics.\" - [Seaborn website](https://seaborn.pydata.org)\n",
    "\n",
    "Seaborn is designed to work with Pandas. Its dataset-oriented and helps us look for relationships between multiple variables. Its built on top of matplotlib to make good looking vizualizations for the purpose of data analysis."
   ]
  },
  {
   "cell_type": "code",
   "execution_count": null,
   "metadata": {},
   "outputs": [],
   "source": [
    "sns.relplot(x=\"total_bill\", y=\"tip\", col=\"time\", hue=\"smoker\", style=\"smoker\", size=\"size\", data=tips_ds)"
   ]
  },
  {
   "cell_type": "markdown",
   "metadata": {},
   "source": [
    "We packed a lot of information in this plot, breaking it down:\n",
    "* along the x axis we have the size of our bill\n",
    "* along the y axis we have the size of our tip\n",
    "* we have two columns of charts, on the left, people that came in during dinner, on the right, for lunch\n",
    "* dots are non-smokers, Xs are smokers\n",
    "* size of the dot is the size of the party\n",
    "\n",
    "[`seaborn.relplot()`](https://seaborn.pydata.org/generated/seaborn.relplot.html#seaborn.relplot) gives us a relational plot that we can make either a scatter plot (default) or a line plot\n",
    "\n",
    "At this point we have a rough idea about what our data is, but lets use Pandas again to get some more info out of it."
   ]
  },
  {
   "cell_type": "markdown",
   "metadata": {},
   "source": [
    "### Descriptive Statistics"
   ]
  },
  {
   "cell_type": "code",
   "execution_count": null,
   "metadata": {},
   "outputs": [],
   "source": [
    "tips_ds.sum()"
   ]
  },
  {
   "cell_type": "markdown",
   "metadata": {},
   "source": [
    "We added the numbers correctly, but we ended up concatenating the strings... Lets try it again, one column at a time. To do that we need to be able to access a column."
   ]
  },
  {
   "cell_type": "code",
   "execution_count": null,
   "metadata": {},
   "outputs": [],
   "source": [
    "tips_ds.total_bill\n",
    "tips_ds[\"total_bill\"]"
   ]
  },
  {
   "cell_type": "markdown",
   "metadata": {},
   "source": [
    "Both of this work in getting data, but we need to use `tips_ds[\"total_bill\"]` if we want to reassign data."
   ]
  },
  {
   "cell_type": "code",
   "execution_count": null,
   "metadata": {},
   "outputs": [],
   "source": [
    "print(\"Num patrons: {}\".format(tips_ds.total_bill.count()))\n",
    "print(\"Total Money (no tips): {}\".format(tips_ds.total_bill.sum()))\n",
    "print(\"Total Tips: {}\".format(tips_ds.tip.sum()))\n",
    "print(\"Avg Party Size: {}\".format(tips_ds.size.mean()))\n",
    "print(\"Bill/Tip covariance: {}\".format(tips_ds.total_bill.cov(tips_ds.tip)))"
   ]
  },
  {
   "cell_type": "markdown",
   "metadata": {},
   "source": [
    "or we can just be lazy"
   ]
  },
  {
   "cell_type": "code",
   "execution_count": null,
   "metadata": {},
   "outputs": [],
   "source": [
    "tips_ds.describe()"
   ]
  },
  {
   "cell_type": "markdown",
   "metadata": {},
   "source": [
    "This formatting is maintained when copy pasting into Microsoft Word\n",
    "\n",
    "Pandas has support for:\n",
    "* `dataframe.count()` Number of non-null observations\n",
    "* `dataframe.sum()` Sum of Values\n",
    "* `dataframe.mean()` Mean/Average\n",
    "* `dataframe.median()` Median\n",
    "* `dataframe.min()` Minimum\n",
    "* `dataframe.max()` Maximum\n",
    "* `dataframe.std()` Corrected standard deviation\n",
    "* `dataframe.var()` Unbiased Variance\n",
    "* `dataframe.skew()` Skewness\n",
    "* `dataframe.kurt()` Kurtosis\n",
    "* `dataframe.quantile()` Sample Quantile\n",
    "* `dataframe.cov()` Covariance\n",
    "* `dataframe.corr()` Correlation\n",
    "\n",
    "* `dataframe.apply()` we write our own function that takes in an nd aray and pass that in"
   ]
  },
  {
   "cell_type": "code",
   "execution_count": null,
   "metadata": {},
   "outputs": [],
   "source": [
    "def square_root(nd_input):\n",
    "    return np.sqrt(nd_input)\n",
    "    \n",
    "\n",
    "print(tips_ds.total_bill)    \n",
    "print(tips_ds.total_bill.apply(square_root))\n",
    "# tips_ds[\"total_bill\"].apply(np.sqrt) # this also works"
   ]
  },
  {
   "cell_type": "markdown",
   "metadata": {},
   "source": [
    "If we have time based data, Pandas can also do all the calculations for a rolling window, as opposed to just a series of data.\n",
    "\n",
    "Theres so much more pandas can calculate, check out the [documentation](https://pandas.pydata.org/pandas-docs/stable/reference/resampling.html#computations-descriptive-stats) and scroll down to the \"Computations / descriptive stats\" section\n",
    "\n",
    "but Pandas lets us do more than just get information out of our data. It lets us manipulate our data, easily removing cols, to reordering, etc. "
   ]
  },
  {
   "cell_type": "markdown",
   "metadata": {},
   "source": [
    "for illustrative purposes, before we start messing with the data, lets make a copy"
   ]
  },
  {
   "cell_type": "markdown",
   "metadata": {},
   "source": [
    "### Messing with the Data"
   ]
  },
  {
   "cell_type": "code",
   "execution_count": null,
   "metadata": {},
   "outputs": [],
   "source": [
    "tips = tips_ds.copy()\n",
    "tips"
   ]
  },
  {
   "cell_type": "markdown",
   "metadata": {},
   "source": [
    "adding a total_charge (total_bill + tips)"
   ]
  },
  {
   "cell_type": "code",
   "execution_count": null,
   "metadata": {},
   "outputs": [],
   "source": [
    "tips.insert(len(tips.columns), \"total_charge\", tips.total_bill + tips.tip)\n",
    "tips"
   ]
  },
  {
   "cell_type": "markdown",
   "metadata": {},
   "source": [
    "Lets say our data is too big. If we were trying to use this data for machine learning, we'd take a look at variance and covariance and purge what gives us the least amount of information gain. But lets just remove 'time' for now."
   ]
  },
  {
   "cell_type": "code",
   "execution_count": null,
   "metadata": {},
   "outputs": [],
   "source": [
    "cols = tips.columns.tolist()\n",
    "print(cols)\n",
    "cols.remove('time')\n",
    "print(cols)\n",
    "tips = tips[cols]\n",
    "tips"
   ]
  },
  {
   "cell_type": "markdown",
   "metadata": {},
   "source": [
    "now lets sort by total_bill size, then party size, then tip"
   ]
  },
  {
   "cell_type": "code",
   "execution_count": null,
   "metadata": {},
   "outputs": [],
   "source": [
    "tips = tips.sort_values([\"total_bill\",\"size\",\"tip\"], ascending=[True, True, True])"
   ]
  },
  {
   "cell_type": "markdown",
   "metadata": {},
   "source": [
    "Finally, lets just grab data about tips non-smoking, female customers\n",
    "We also only want to display their total_bill and tip, then lets just limit displaying it to the first 10."
   ]
  },
  {
   "cell_type": "code",
   "execution_count": null,
   "metadata": {},
   "outputs": [],
   "source": [
    "tips = tips.loc[(tips.smoker == \"No\") & (tips.sex == \"Female\"), ['total_bill', 'tip', 'smoker', 'sex']]\n",
    "tips.head(10)"
   ]
  },
  {
   "cell_type": "markdown",
   "metadata": {},
   "source": [
    "Now we know how to manipulate our data. Pandas can do so much more, from merging data sets, reshaping, transposing,  etc. Whenever you need to so something its worth giving the [API reference](https://pandas.pydata.org/pandas-docs/stable/index.html#) a quick scan.\n",
    "\n",
    "Pandas can even do some visualizations, but Seaborn is super simple and the little bit of extra verbosity gives you a lot more power."
   ]
  },
  {
   "cell_type": "markdown",
   "metadata": {},
   "source": [
    "## Visualizations"
   ]
  },
  {
   "cell_type": "markdown",
   "metadata": {},
   "source": [
    "At this point we can explore our data, we've even made some visualizations to try and understand our data.\n",
    "Relationships between features is a lot harder with a chart, so next we'll explore how to make visualizations to analyze those relationships.\n",
    "\n",
    "First off..."
   ]
  },
  {
   "cell_type": "markdown",
   "metadata": {},
   "source": [
    "## Distributions\n",
    "\n",
    "We want to start visualizing our data to get more information out of it, we've already plotted all the information together, so now we want to start probing for relationships.\n",
    "\n",
    "Lets take a look at distrobutions with the histogram.\n",
    "\n",
    "we can use a distribution plot, \"sns.displot()\"\n",
    "we can get a kernel density function, or even try to get a general shape of our KDF."
   ]
  },
  {
   "cell_type": "code",
   "execution_count": null,
   "metadata": {},
   "outputs": [],
   "source": [
    "sns.distplot(tips_ds[\"tip\"], bins=20, kde=False, rug=True) #fit = stats.gamma\n",
    "sns.kdeplot(tips_ds[\"tip\"], shade=True)"
   ]
  },
  {
   "cell_type": "markdown",
   "metadata": {},
   "source": [
    "The kdf can also be represented for 2D data, so we can represent probability across relational data "
   ]
  },
  {
   "cell_type": "code",
   "execution_count": null,
   "metadata": {},
   "outputs": [],
   "source": [
    "sns.jointplot(x=\"total_bill\", y=\"tip\", data=tips_ds, kind=\"kde\")\n",
    "\n",
    "fig, ax = plt.subplots(figsize=(6, 6))\n",
    "sns.kdeplot(tips_ds.total_bill, tips_ds.tip, ax=ax)\n",
    "sns.rugplot(tips_ds.total_bill, color=\"g\", ax=ax)\n",
    "sns.rugplot(tips_ds.tip, vertical=True, ax=ax)"
   ]
  },
  {
   "cell_type": "markdown",
   "metadata": {},
   "source": [
    "So far we've represented discrete levels, but money changes in small enough intervals where its probably better to visualize it as if it was a continuous distribution."
   ]
  },
  {
   "cell_type": "code",
   "execution_count": null,
   "metadata": {},
   "outputs": [],
   "source": [
    "f, ax = plt.subplots(figsize=(6, 6))\n",
    "cmap = sns.cubehelix_palette(as_cmap=True, dark=0, light=1, reverse=True)\n",
    "sns.kdeplot(tips_ds.total_bill, tips_ds.tip, cmap=cmap, n_levels=60, shade=True)"
   ]
  },
  {
   "cell_type": "markdown",
   "metadata": {},
   "source": [
    "## Categorical \n",
    "\n",
    "There's a few things we can do to explore our data's categorys.\n",
    "* Scatter plots:\n",
    "    * `stripplot()`\n",
    "    * `swarmplot()`\n",
    "* Distribution plots\n",
    "    * `boxplot()`\n",
    "    * `violinplot()`\n",
    "    * `boxenplot()`\n",
    "* Estimate plots\n",
    "    * `pointplot()`\n",
    "    * `barplot()`\n",
    "    * `countplot()`"
   ]
  },
  {
   "cell_type": "markdown",
   "metadata": {},
   "source": [
    "### Scatter plots\n",
    "\n",
    "* `stripplot()`\n",
    "* `swarmplot()`"
   ]
  },
  {
   "cell_type": "code",
   "execution_count": null,
   "metadata": {},
   "outputs": [],
   "source": [
    "sns.catplot(x=\"day\", y=\"total_bill\", data=tips_ds) # Standard Strip Plot\n",
    "sns.catplot(x=\"day\", y=\"total_bill\", jitter=False, data=tips_ds) # Removes random X-axis noise\n",
    "sns.catplot(x=\"day\", y=\"total_bill\", kind=\"swarm\", data=tips_ds) # Swarm Plot\n",
    "sns.catplot(x=\"day\", y=\"total_bill\", hue=\"sex\", kind=\"swarm\", data=tips_ds) # Recolors to add a new dimension"
   ]
  },
  {
   "cell_type": "markdown",
   "metadata": {},
   "source": [
    "Histograms will give us better insight into how many values are in a specific category, Unlike histograms, Scatter plots give us 2+ dimensions of data. We lose some information as now the number of data points in categlories is no longer explicityl stated, but we can see how a different feature is distributed in those categories."
   ]
  },
  {
   "cell_type": "markdown",
   "metadata": {},
   "source": [
    "### Distribution plots\n",
    "\n",
    "* `boxplot()`\n",
    "* `violinplot()`\n",
    "* `boxenplot()`"
   ]
  },
  {
   "cell_type": "code",
   "execution_count": null,
   "metadata": {},
   "outputs": [],
   "source": [
    "sns.catplot(x=\"day\", y=\"total_bill\", kind=\"box\", data=tips_ds)\n",
    "sns.catplot(x=\"day\", y=\"total_bill\", kind=\"box\", data=tips_ds)\n",
    "sns.catplot(x=\"total_bill\", y=\"day\", hue=\"sex\", kind=\"violin\", split=True, inner=\"stick\", data=tips_ds)"
   ]
  },
  {
   "cell_type": "markdown",
   "metadata": {},
   "source": [
    "## Estimate Plots\n",
    "* `pointplot()`\n",
    "* `barplot()`\n",
    "* `countplot()`\n",
    "\n",
    "barplots and countplots are simpler ways of implementing the same functions as a bar catplot, what you need (control vs simlicity) determines which one you pick."
   ]
  },
  {
   "cell_type": "code",
   "execution_count": null,
   "metadata": {},
   "outputs": [],
   "source": [
    "sns.catplot(x=\"day\", kind=\"count\", hue=\"smoker\", palette=\"ch:.25\", data=tips_ds)"
   ]
  },
  {
   "cell_type": "code",
   "execution_count": null,
   "metadata": {},
   "outputs": [],
   "source": [
    "sns.catplot(x=\"day\", y=\"total_bill\", kind=\"bar\", data=tips_ds)\n",
    "sns.catplot(x=\"day\", y=\"tip\", kind=\"bar\", data=tips_ds)\n",
    "\n",
    "# by default these black lines represent our confidence interfval, which we can remove with \"ci=None\".\n",
    "# the default uses the standard deviation"
   ]
  },
  {
   "cell_type": "markdown",
   "metadata": {},
   "source": [
    "## Regressions"
   ]
  },
  {
   "cell_type": "code",
   "execution_count": null,
   "metadata": {},
   "outputs": [],
   "source": [
    "sns.regplot(x=\"total_bill\", y=\"tip\", data=tips_ds)\n",
    "sns.lmplot(x=\"total_bill\", y=\"tip\", data=tips_ds)"
   ]
  },
  {
   "cell_type": "markdown",
   "metadata": {},
   "source": [
    "Other than the shape of our charts `sns.regplot()` and `sns.lmplot()` create some similar linear regressions. Thats normal as `sns.regplot()` combines `sns.regplot()` with a `FacetGrid`. This basically means with `sns.lmplot()` we can explore relationships between more than two variables."
   ]
  },
  {
   "cell_type": "code",
   "execution_count": null,
   "metadata": {},
   "outputs": [],
   "source": [
    "sns.lmplot(x=\"total_bill\", y=\"tip\", hue=\"smoker\", data=tips_ds)"
   ]
  },
  {
   "cell_type": "markdown",
   "metadata": {},
   "source": [
    "We should make this a bit easier to parse however."
   ]
  },
  {
   "cell_type": "code",
   "execution_count": null,
   "metadata": {},
   "outputs": [],
   "source": [
    "sns.lmplot(x=\"total_bill\", y=\"tip\", hue=\"smoker\", data=tips_ds, markers=[\"o\", \"x\"], palette=\"Set1\")"
   ]
  },
  {
   "cell_type": "markdown",
   "metadata": {},
   "source": [
    "And exploring different variables..."
   ]
  },
  {
   "cell_type": "code",
   "execution_count": null,
   "metadata": {},
   "outputs": [],
   "source": [
    "sns.lmplot(x=\"total_bill\", y=\"tip\", hue=\"smoker\", col=\"time\", row=\"sex\", data=tips_ds, markers=[\"o\", \"x\"], palette=\"Set1\")"
   ]
  },
  {
   "cell_type": "markdown",
   "metadata": {},
   "source": [
    "We can use a joint plot to get a bit more information out."
   ]
  },
  {
   "cell_type": "code",
   "execution_count": null,
   "metadata": {},
   "outputs": [],
   "source": [
    "sns.jointplot(x=\"total_bill\", y=\"tip\", data=tips_ds, kind=\"reg\")"
   ]
  },
  {
   "cell_type": "markdown",
   "metadata": {},
   "source": [
    "\n",
    "Sometimes we have data where a linear regression doesnt quite make sense though:\n",
    "\n",
    "### Nonlinear Regressions"
   ]
  },
  {
   "cell_type": "code",
   "execution_count": null,
   "metadata": {},
   "outputs": [],
   "source": [
    "anscombe = sns.load_dataset(\"anscombe\")\n",
    "sns.lmplot(x=\"x\", y=\"y\", data=anscombe.query(\"dataset == 'II'\"), order=2)\n",
    "sns.lmplot(x=\"size\", y=\"total_bill\", data=tips_ds, x_estimator=np.mean, logx=True)"
   ]
  },
  {
   "cell_type": "markdown",
   "metadata": {},
   "source": [
    "## Data Cleanup\n",
    "\n",
    "We sometimes will have outliers in our data, while we will want to show those outliers, we may not want to include them in our regression"
   ]
  },
  {
   "cell_type": "code",
   "execution_count": null,
   "metadata": {},
   "outputs": [],
   "source": [
    "sns.lmplot(x=\"x\", y=\"y\", data=anscombe.query(\"dataset == 'III'\"), ci=None)\n",
    "sns.lmplot(x=\"x\", y=\"y\", data=anscombe.query(\"dataset == 'III'\"), robust=True, ci=None, scatter_kws={\"s\": 80})"
   ]
  },
  {
   "cell_type": "markdown",
   "metadata": {},
   "source": [
    "## Resources\n",
    "\n",
    "https://datasetsearch.research.google.com\n"
   ]
  }
 ],
 "metadata": {
  "kernelspec": {
   "display_name": "Python 3",
   "language": "python",
   "name": "python3"
  },
  "language_info": {
   "codemirror_mode": {
    "name": "ipython",
    "version": 3
   },
   "file_extension": ".py",
   "mimetype": "text/x-python",
   "name": "python",
   "nbconvert_exporter": "python",
   "pygments_lexer": "ipython3",
   "version": "3.7.6"
  }
 },
 "nbformat": 4,
 "nbformat_minor": 4
}
